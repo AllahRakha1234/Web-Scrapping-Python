{
 "cells": [
  {
   "cell_type": "code",
   "execution_count": 1,
   "id": "03d130e9-0fad-4fe3-a5fe-6ae4de5c096c",
   "metadata": {},
   "outputs": [],
   "source": [
    "# IMPORTING LIBRARIES\n",
    "from bs4 import BeautifulSoup\n",
    "import requests\n",
    "import pandas as pd\n",
    "import numpy as np"
   ]
  },
  {
   "cell_type": "code",
   "execution_count": 27,
   "id": "34de9443-cb67-4cdd-8db6-0e6ff21b3c7b",
   "metadata": {},
   "outputs": [
    {
     "ename": "SyntaxError",
     "evalue": "invalid syntax (2561011589.py, line 5)",
     "output_type": "error",
     "traceback": [
      "\u001b[1;36m  Cell \u001b[1;32mIn[27], line 5\u001b[1;36m\u001b[0m\n\u001b[1;33m    'Accept-Language': 'en-US,en;q=0.5',\u001b[0m\n\u001b[1;37m                     ^\u001b[0m\n\u001b[1;31mSyntaxError\u001b[0m\u001b[1;31m:\u001b[0m invalid syntax\n"
     ]
    }
   ],
   "source": [
    "# CREDENTIALS\n",
    "url = \"https://www.amazon.com/s?k=playstation+5&crid=Q4PL43VKZ4MP&sprefix=playst%2Caps%2C574&ref=nb_sb_ss_pltr-xclick_1_6\"\n",
    "headers = {\n",
    "    'User-Agent': 'Mozilla/5.0 (Windows NT 10.0; Win64; x64) AppleWebKit/537.36 (KHTML, like Gecko) Chrome/126.0.0.0 Safari/537.36',\n",
    "    'Accept-Language': 'en-US,en;q=0.5',\n",
    "}"
   ]
  },
  {
   "cell_type": "code",
   "execution_count": 26,
   "id": "c95fdb59-379a-422a-b191-37e7a18fb4c3",
   "metadata": {},
   "outputs": [
    {
     "ename": "NameError",
     "evalue": "name 'url' is not defined",
     "output_type": "error",
     "traceback": [
      "\u001b[1;31m---------------------------------------------------------------------------\u001b[0m",
      "\u001b[1;31mNameError\u001b[0m                                 Traceback (most recent call last)",
      "Cell \u001b[1;32mIn[26], line 2\u001b[0m\n\u001b[0;32m      1\u001b[0m \u001b[38;5;66;03m# MAKING REQUEST\u001b[39;00m\n\u001b[1;32m----> 2\u001b[0m html_content \u001b[38;5;241m=\u001b[39m requests\u001b[38;5;241m.\u001b[39mget(\u001b[43murl\u001b[49m, headers)\n",
      "\u001b[1;31mNameError\u001b[0m: name 'url' is not defined"
     ]
    }
   ],
   "source": [
    "# MAKING REQUEST\n",
    "html_content = requests.get(url, headers)"
   ]
  },
  {
   "cell_type": "code",
   "execution_count": null,
   "id": "87e093bd-98a0-4d3f-89f0-7af3e0ae2f3a",
   "metadata": {},
   "outputs": [],
   "source": []
  },
  {
   "cell_type": "code",
   "execution_count": 25,
   "id": "0aee5959-25ba-463b-acc6-a9bfff419e8d",
   "metadata": {},
   "outputs": [
    {
     "ename": "TypeError",
     "evalue": "object of type 'Response' has no len()",
     "output_type": "error",
     "traceback": [
      "\u001b[1;31m---------------------------------------------------------------------------\u001b[0m",
      "\u001b[1;31mTypeError\u001b[0m                                 Traceback (most recent call last)",
      "Cell \u001b[1;32mIn[25], line 1\u001b[0m\n\u001b[1;32m----> 1\u001b[0m soup \u001b[38;5;241m=\u001b[39m \u001b[43mBeautifulSoup\u001b[49m\u001b[43m(\u001b[49m\u001b[43mhtml_content\u001b[49m\u001b[43m,\u001b[49m\u001b[43m \u001b[49m\u001b[38;5;124;43m'\u001b[39;49m\u001b[38;5;124;43mlxml\u001b[39;49m\u001b[38;5;124;43m'\u001b[39;49m\u001b[43m)\u001b[49m\n",
      "File \u001b[1;32m~\\AppData\\Local\\Programs\\Python\\Python312\\Lib\\site-packages\\bs4\\__init__.py:315\u001b[0m, in \u001b[0;36mBeautifulSoup.__init__\u001b[1;34m(self, markup, features, builder, parse_only, from_encoding, exclude_encodings, element_classes, **kwargs)\u001b[0m\n\u001b[0;32m    313\u001b[0m \u001b[38;5;28;01mif\u001b[39;00m \u001b[38;5;28mhasattr\u001b[39m(markup, \u001b[38;5;124m'\u001b[39m\u001b[38;5;124mread\u001b[39m\u001b[38;5;124m'\u001b[39m):        \u001b[38;5;66;03m# It's a file-type object.\u001b[39;00m\n\u001b[0;32m    314\u001b[0m     markup \u001b[38;5;241m=\u001b[39m markup\u001b[38;5;241m.\u001b[39mread()\n\u001b[1;32m--> 315\u001b[0m \u001b[38;5;28;01melif\u001b[39;00m \u001b[38;5;28;43mlen\u001b[39;49m\u001b[43m(\u001b[49m\u001b[43mmarkup\u001b[49m\u001b[43m)\u001b[49m \u001b[38;5;241m<\u001b[39m\u001b[38;5;241m=\u001b[39m \u001b[38;5;241m256\u001b[39m \u001b[38;5;129;01mand\u001b[39;00m (\n\u001b[0;32m    316\u001b[0m         (\u001b[38;5;28misinstance\u001b[39m(markup, \u001b[38;5;28mbytes\u001b[39m) \u001b[38;5;129;01mand\u001b[39;00m \u001b[38;5;129;01mnot\u001b[39;00m \u001b[38;5;124mb\u001b[39m\u001b[38;5;124m'\u001b[39m\u001b[38;5;124m<\u001b[39m\u001b[38;5;124m'\u001b[39m \u001b[38;5;129;01min\u001b[39;00m markup)\n\u001b[0;32m    317\u001b[0m         \u001b[38;5;129;01mor\u001b[39;00m (\u001b[38;5;28misinstance\u001b[39m(markup, \u001b[38;5;28mstr\u001b[39m) \u001b[38;5;129;01mand\u001b[39;00m \u001b[38;5;129;01mnot\u001b[39;00m \u001b[38;5;124m'\u001b[39m\u001b[38;5;124m<\u001b[39m\u001b[38;5;124m'\u001b[39m \u001b[38;5;129;01min\u001b[39;00m markup)\n\u001b[0;32m    318\u001b[0m ):\n\u001b[0;32m    319\u001b[0m     \u001b[38;5;66;03m# Issue warnings for a couple beginner problems\u001b[39;00m\n\u001b[0;32m    320\u001b[0m     \u001b[38;5;66;03m# involving passing non-markup to Beautiful Soup.\u001b[39;00m\n\u001b[0;32m    321\u001b[0m     \u001b[38;5;66;03m# Beautiful Soup will still parse the input as markup,\u001b[39;00m\n\u001b[0;32m    322\u001b[0m     \u001b[38;5;66;03m# since that is sometimes the intended behavior.\u001b[39;00m\n\u001b[0;32m    323\u001b[0m     \u001b[38;5;28;01mif\u001b[39;00m \u001b[38;5;129;01mnot\u001b[39;00m \u001b[38;5;28mself\u001b[39m\u001b[38;5;241m.\u001b[39m_markup_is_url(markup):\n\u001b[0;32m    324\u001b[0m         \u001b[38;5;28mself\u001b[39m\u001b[38;5;241m.\u001b[39m_markup_resembles_filename(markup)                \n",
      "\u001b[1;31mTypeError\u001b[0m: object of type 'Response' has no len()"
     ]
    }
   ],
   "source": [
    "soup = BeautifulSoup(html_content, 'lxml')"
   ]
  },
  {
   "cell_type": "code",
   "execution_count": 21,
   "id": "3f17111f-5722-40d4-9483-9d4f8b38012a",
   "metadata": {},
   "outputs": [
    {
     "data": {
      "text/plain": [
       "<!--\n",
       "        To discuss automated access to Amazon data please contact api-services-support@amazon.com.\n",
       "        For information about migrating to our APIs refer to our Marketplace APIs at https://developer.amazonservices.com/ref=rm_5_sv, or our Product Advertising API at https://affiliate-program.amazon.com/gp/advertising/api/detail/main.html/ref=rm_5_ac for advertising use cases.\n",
       "--><!DOCTYPE html>\n",
       "<html>\n",
       "<head>\n",
       "<meta charset=\"utf-8\"/>\n",
       "<meta content=\"ie=edge\" http-equiv=\"x-ua-compatible\"/>\n",
       "<meta content=\"width=device-width, initial-scale=1, shrink-to-fit=no\" name=\"viewport\"/>\n",
       "<title>Sorry! Something went wrong!</title>\n",
       "<style>\n",
       "  html, body {\n",
       "    padding: 0;\n",
       "    margin: 0\n",
       "  }\n",
       "\n",
       "  img {\n",
       "    border: 0\n",
       "  }\n",
       "\n",
       "  #a {\n",
       "    background: #232f3e;\n",
       "    padding: 11px 11px 11px 192px\n",
       "  }\n",
       "\n",
       "  #b {\n",
       "    position: absolute;\n",
       "    left: 22px;\n",
       "    top: 12px\n",
       "  }\n",
       "\n",
       "  #c {\n",
       "    position: relative;\n",
       "    max-width: 800px;\n",
       "    padding: 0 40px 0 0\n",
       "  }\n",
       "\n",
       "  #e, #f {\n",
       "    height: 35px;\n",
       "    border: 0;\n",
       "    font-size: 1em\n",
       "  }\n",
       "\n",
       "  #e {\n",
       "    width: 100%;\n",
       "    margin: 0;\n",
       "    padding: 0 10px;\n",
       "    border-radius: 4px 0 0 4px\n",
       "  }\n",
       "\n",
       "  #f {\n",
       "    cursor: pointer;\n",
       "    background: #febd69;\n",
       "    font-weight: bold;\n",
       "    border-radius: 0 4px 4px 0;\n",
       "    -webkit-appearance: none;\n",
       "    position: absolute;\n",
       "    top: 0;\n",
       "    right: 0;\n",
       "    padding: 0 12px\n",
       "  }\n",
       "\n",
       "  @media (max-width: 500px) {\n",
       "    #a {\n",
       "      padding: 55px 10px 10px\n",
       "    }\n",
       "\n",
       "    #b {\n",
       "      left: 6px\n",
       "    }\n",
       "  }\n",
       "\n",
       "  #g {\n",
       "    text-align: center;\n",
       "    margin: 30px 0\n",
       "  }\n",
       "\n",
       "  #g img {\n",
       "    max-width: 90%\n",
       "  }\n",
       "\n",
       "  #d {\n",
       "    display: none\n",
       "  }\n",
       "\n",
       "  #d[src] {\n",
       "    display: inline\n",
       "  }\n",
       "  </style>\n",
       "</head>\n",
       "<body>\n",
       "<a href=\"/ref=cs_503_logo\"><img alt=\"Amazon.com\" id=\"b\" src=\"https://images-na.ssl-images-amazon.com/images/G/01/error/logo._TTD_.png\"/></a>\n",
       "<form accept-charset=\"utf-8\" action=\"/s\" id=\"a\" method=\"GET\" role=\"search\">\n",
       "<div id=\"c\">\n",
       "<input id=\"e\" name=\"field-keywords\" placeholder=\"Search\"/>\n",
       "<input name=\"ref\" type=\"hidden\" value=\"cs_503_search\"/>\n",
       "<input id=\"f\" type=\"submit\" value=\"Go\"/>\n",
       "</div>\n",
       "</form>\n",
       "<div id=\"g\">\n",
       "<div><a href=\"/ref=cs_503_link\"><img alt=\"Sorry! Something went wrong on our end. Please go back and try again or go to Amazon's home page.\" src=\"https://images-na.ssl-images-amazon.com/images/G/01/error/500_503.png\"/></a>\n",
       "</div>\n",
       "<a href=\"/dogsofamazon/ref=cs_503_d\" rel=\"noopener noreferrer\" target=\"_blank\"><img alt=\"Dogs of Amazon\" id=\"d\"/></a>\n",
       "<script>document.getElementById(\"d\").src = \"https://images-na.ssl-images-amazon.com/images/G/01/error/\" + (Math.floor(Math.random() * 43) + 1) + \"._TTD_.jpg\";</script>\n",
       "</div>\n",
       "</body>\n",
       "</html>"
      ]
     },
     "execution_count": 21,
     "metadata": {},
     "output_type": "execute_result"
    }
   ],
   "source": [
    "soup"
   ]
  },
  {
   "cell_type": "code",
   "execution_count": 17,
   "id": "b3540540-afc7-49af-958d-7e020d97e199",
   "metadata": {},
   "outputs": [],
   "source": [
    "links = soup.find_all('a', attrs={'class':'a-link-normal s-underline-text s-underline-link-text s-link-style a-text-normal'})"
   ]
  },
  {
   "cell_type": "code",
   "execution_count": 18,
   "id": "7b7dd399-0d3e-444d-b762-ab2edce7145b",
   "metadata": {},
   "outputs": [
    {
     "data": {
      "text/plain": [
       "[]"
      ]
     },
     "execution_count": 18,
     "metadata": {},
     "output_type": "execute_result"
    }
   ],
   "source": [
    "links"
   ]
  }
 ],
 "metadata": {
  "kernelspec": {
   "display_name": "Python 3 (ipykernel)",
   "language": "python",
   "name": "python3"
  },
  "language_info": {
   "codemirror_mode": {
    "name": "ipython",
    "version": 3
   },
   "file_extension": ".py",
   "mimetype": "text/x-python",
   "name": "python",
   "nbconvert_exporter": "python",
   "pygments_lexer": "ipython3",
   "version": "3.12.2"
  }
 },
 "nbformat": 4,
 "nbformat_minor": 5
}
