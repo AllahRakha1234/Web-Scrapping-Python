{
 "cells": [
  {
   "cell_type": "code",
   "execution_count": 1,
   "id": "858c4122-516a-4100-b191-2521da2f103a",
   "metadata": {},
   "outputs": [],
   "source": [
    "# IMPORTING LIBRARIES\n",
    "from bs4 import BeautifulSoup\n",
    "import requests\n",
    "import pandas as pd\n",
    "import numpy as np"
   ]
  },
  {
   "cell_type": "code",
   "execution_count": 80,
   "id": "be0476f2-17c1-47d6-99bd-3e77a955cc68",
   "metadata": {},
   "outputs": [],
   "source": [
    "# FUNCTIONS\n",
    "def get_title(soup):\n",
    "    try:\n",
    "        title = soup.find('span', attrs={'id':'productTitle'}).text.strip()\n",
    "    except AttributeError:\n",
    "        title = \"\"\n",
    "    return title\n",
    "\n",
    "def get_price(soup):\n",
    "    try:\n",
    "        price = soup.find('span', attrs={'class':'a-price a-text-price a-size-medium apexPriceToPay'}).span.text\n",
    "    except AttributeError:\n",
    "        # # If there is a deal price\n",
    "        # try:\n",
    "        #     price = soup..find('span', attrs={'class':'a-price a-text-price a-size-medium apexPriceToPay'}).span.text\n",
    "            \n",
    "        price = \"\"\n",
    "    return price\n",
    "\n",
    "def get_rating(soup):\n",
    "    try:\n",
    "        rating = soup.find('span', attrs={'class':'a-size-base a-color-base'}).text\n",
    "    except AttributeError:\n",
    "        rating = \"\"\n",
    "    return rating\n",
    "\n",
    "\n",
    "def get_review_count(soup):\n",
    "    try:\n",
    "        review_count = soup.find('span', attrs={'id':'acrCustomerReviewText'}).text\n",
    "    except AttributeError:\n",
    "        review_count = \"\"\n",
    "    return review_count\n",
    "\n",
    "def get_availability(soup):\n",
    "    try:\n",
    "        available = soup.find('span', attrs={'class':'a-size-base a-color-price a-text-bold'}).text\n",
    "    except AttributeError:\n",
    "        available = \"Not Available\"\n",
    "    return available\n",
    "\n",
    "\n",
    "    "
   ]
  },
  {
   "cell_type": "code",
   "execution_count": 92,
   "id": "33af074b-a9f7-49ae-9b4a-3509aba26396",
   "metadata": {},
   "outputs": [
    {
     "name": "stdout",
     "output_type": "stream",
     "text": [
      "links_list:  ['/PlayStation-5-Slim-Renewed-Premium/dp/B0CW3LGK3B/ref=sr_1_1?crid=Q4PL43VKZ4MP&dib=eyJ2IjoiMSJ9.dw7T4_M6BWs7gN9KL7n2FT8khUaLXZ6jB8Q4kt81ih7VgwowBAdQT-i5gxio59ZQS_TOk_1SV5Y920AIk-wHEeMxi-Mld8_o1aEkOzX3xgj471JL1eknPBxH-J5-sUQt2x-l2q6qDBr_BQcmJmPcsdWR9D2wbsfWhKNzkAm87MMXce4rBXvXudTXwzerKHIrZ3NbfABJz7qOFlgDT0c1isVsifIJ9-vutSFrgrPFde8.Ut4B9sH_uu5pbZEacAcJ8OEMs1zwItsmFXJ5jJwDRY8&dib_tag=se&keywords=playstation+5&qid=1721573705&sprefix=playst%2Caps%2C574&sr=8-1', '/EA-SPORTS-College-Football-25-PlayStation/dp/B0D3PBB78P/ref=sr_1_2?crid=Q4PL43VKZ4MP&dib=eyJ2IjoiMSJ9.dw7T4_M6BWs7gN9KL7n2FT8khUaLXZ6jB8Q4kt81ih7VgwowBAdQT-i5gxio59ZQS_TOk_1SV5Y920AIk-wHEeMxi-Mld8_o1aEkOzX3xgj471JL1eknPBxH-J5-sUQt2x-l2q6qDBr_BQcmJmPcsdWR9D2wbsfWhKNzkAm87MMXce4rBXvXudTXwzerKHIrZ3NbfABJz7qOFlgDT0c1isVsifIJ9-vutSFrgrPFde8.Ut4B9sH_uu5pbZEacAcJ8OEMs1zwItsmFXJ5jJwDRY8&dib_tag=se&keywords=playstation+5&qid=1721573705&sprefix=playst%2Caps%2C574&sr=8-2', '/PlayStation-5-Digital/dp/B09DFHJTF5/ref=sr_1_3?crid=Q4PL43VKZ4MP&dib=eyJ2IjoiMSJ9.dw7T4_M6BWs7gN9KL7n2FT8khUaLXZ6jB8Q4kt81ih7VgwowBAdQT-i5gxio59ZQS_TOk_1SV5Y920AIk-wHEeMxi-Mld8_o1aEkOzX3xgj471JL1eknPBxH-J5-sUQt2x-l2q6qDBr_BQcmJmPcsdWR9D2wbsfWhKNzkAm87MMXce4rBXvXudTXwzerKHIrZ3NbfABJz7qOFlgDT0c1isVsifIJ9-vutSFrgrPFde8.Ut4B9sH_uu5pbZEacAcJ8OEMs1zwItsmFXJ5jJwDRY8&dib_tag=se&keywords=playstation+5&qid=1721573705&sprefix=playst%2Caps%2C574&sr=8-3', '/PlayStation%C2%AE5-Digital-slim-Disc-Drive-Consoles/dp/B0CNY8L88Y/ref=sr_1_4?crid=Q4PL43VKZ4MP&dib=eyJ2IjoiMSJ9.dw7T4_M6BWs7gN9KL7n2FT8khUaLXZ6jB8Q4kt81ih7VgwowBAdQT-i5gxio59ZQS_TOk_1SV5Y920AIk-wHEeMxi-Mld8_o1aEkOzX3xgj471JL1eknPBxH-J5-sUQt2x-l2q6qDBr_BQcmJmPcsdWR9D2wbsfWhKNzkAm87MMXce4rBXvXudTXwzerKHIrZ3NbfABJz7qOFlgDT0c1isVsifIJ9-vutSFrgrPFde8.Ut4B9sH_uu5pbZEacAcJ8OEMs1zwItsmFXJ5jJwDRY8&dib_tag=se&keywords=playstation+5&qid=1721573705&sprefix=playst%2Caps%2C574&sr=8-4']\n",
      "{'titles': ['PlayStation 5 (Slim) - (Renewed Premium)', 'EA SPORTS College Football 25 - PlayStation 5', 'PlayStation 5 Digital Edition - CFI-1102B', 'PlayStation®5 Digital Edition (slim) and Disc Drive For PS5 Digital Edition Consoles (slim)'], 'prices': ['$449.99', '', '', ''], 'ratings': ['', ' $69.99 ', ' 4.8 ', ' 5.0 '], 'reviews': ['1 rating', '4 ratings', '834 ratings', '6 ratings'], 'availability': ['Not Available', ' Only 1 left in stock - order soon. ', 'Not Available', 'Not Available']}\n"
     ]
    }
   ],
   "source": [
    "# MIAN FUNCTION\n",
    "if __name__ == '__main__':\n",
    "    # CREDENTIALS\n",
    "    URL = \"https://www.amazon.com/s?k=playstation+5&crid=Q4PL43VKZ4MP&sprefix=playst%2Caps%2C574&ref=nb_sb_ss_pltr-xclick_1_6\"\n",
    "    HEADERS = {\n",
    "        'User-Agent': 'Mozilla/5.0 (Windows NT 10.0; Win64; x64) AppleWebKit/537.36 (KHTML, like Gecko) Chrome/126.0.0.0 Safari/537.36',\n",
    "        'Accept-Language': 'en-US,en;q=0.5',\n",
    "    }\n",
    "\n",
    "    # MAKING REQUEST\n",
    "    webpage = requests.get(URL, headers=HEADERS).text\n",
    "    soup = BeautifulSoup(webpage, 'lxml')\n",
    "    \n",
    "    # LINKS (ANCHOR TAGS)\n",
    "    links = soup.find_all('a', attrs={'class':'a-link-normal s-underline-text s-underline-link-text s-link-style a-text-normal'})\n",
    "    # NAVIGATING LINKS TO GET HREF LINKS\n",
    "    links_list = []\n",
    "    for link in links:\n",
    "        links_list.append(link.get('href'))\n",
    "\n",
    "    # LOOPING LINKS_LIST TO GET DETAILS\n",
    "    dictionary_info = {'titles': [], 'prices': [], 'ratings': [], 'reviews': [], 'availability': [],}\n",
    "    for link in links_list:\n",
    "        new_webpage = requests.get('https://www.amazon.com'+ link, headers=HEADERS).content # OR .content\n",
    "        new_soup = BeautifulSoup(new_webpage, 'lxml')\n",
    "        # Filling Information\n",
    "        dictionary_info['titles'].append(get_title(new_soup))\n",
    "        dictionary_info['prices'].append(get_price(new_soup))\n",
    "        dictionary_info['ratings'].append(get_rating(new_soup))\n",
    "        dictionary_info['reviews'].append(get_review_count(new_soup))\n",
    "        dictionary_info['availability'].append(get_availability(new_soup))\n",
    "    print(dictionary_info)\n",
    "    \n",
    "\n",
    "        \n",
    "    "
   ]
  },
  {
   "cell_type": "code",
   "execution_count": 12,
   "id": "4b5369a8-fc21-43f1-8f95-437ed0cdf9c8",
   "metadata": {},
   "outputs": [],
   "source": [
    "link = links[0]['href']\n",
    "product_list = ('https://amazon.com' + link)"
   ]
  },
  {
   "cell_type": "code",
   "execution_count": 61,
   "id": "d28c05fe-ae27-4af7-8940-427fd7272ddb",
   "metadata": {},
   "outputs": [],
   "source": [
    "product_list = \"https://www.amazon.com/PlayStation-5-Slim-Renewed-Premium/dp/B0CW3LGK3B/ref=sr_1_1?crid=Q4PL43VKZ4MP&dib=eyJ2IjoiMSJ9.dw7T4_M6BWs7gN9KL7n2FT8khUaLXZ6jB8Q4kt81ih7sY-cj70l5wuuFJLNl2ujwtHtnXeix2HfhmjOljkJQEeTbm16yQQSOSCBB_KEytHSdx5B6a6tXeFbwDcsIP_JSsyUYWJhsXQ_h3uyfHOzb-XJV9Rt6mgoCOTw0NqNOaO8eXT_30UL_1t8K127j34ezqpAdpEXhN_guLY8rqv5H-9TlHtxkMuCbbUQ7_soljck.p8unpXcUs9ESF_fy1-jfSO8y47KtifrqjcloRXaQkCs&dib_tag=se&keywords=playstation+5&qid=1721564766&sprefix=playst%2Caps%2C574&sr=8-1\""
   ]
  },
  {
   "cell_type": "code",
   "execution_count": 62,
   "id": "4249e881-9895-48b7-bcfa-858482599bca",
   "metadata": {},
   "outputs": [],
   "source": [
    "new_webpage = requests.get(product_list, headers=HEADERS).text"
   ]
  },
  {
   "cell_type": "code",
   "execution_count": 63,
   "id": "113969ae-4c8a-450a-9758-eefce85cb90c",
   "metadata": {},
   "outputs": [],
   "source": [
    "new_soup = BeautifulSoup(new_webpage, \"lxml\")"
   ]
  },
  {
   "cell_type": "code",
   "execution_count": 64,
   "id": "1e8a4a12-763c-48af-add2-cebd97193a2d",
   "metadata": {},
   "outputs": [
    {
     "data": {
      "text/plain": [
       "'PlayStation 5 (Slim) - (Renewed Premium)'"
      ]
     },
     "execution_count": 64,
     "metadata": {},
     "output_type": "execute_result"
    }
   ],
   "source": [
    "title = get_title(new_soup)\n",
    "title"
   ]
  },
  {
   "cell_type": "code",
   "execution_count": 65,
   "id": "cc2bfdba-4e78-44eb-bc8e-d9881a0ca032",
   "metadata": {},
   "outputs": [
    {
     "data": {
      "text/plain": [
       "'$449.99'"
      ]
     },
     "execution_count": 65,
     "metadata": {},
     "output_type": "execute_result"
    }
   ],
   "source": [
    "price = get_price(new_soup)\n",
    "price"
   ]
  },
  {
   "cell_type": "code",
   "execution_count": 66,
   "id": "4b349bdd-7003-4df3-8e25-1cf0a37fcb26",
   "metadata": {},
   "outputs": [
    {
     "data": {
      "text/plain": [
       "<span class=\"a-size-base a-color-base\" id=\"price-shipping-message\"></span>"
      ]
     },
     "execution_count": 66,
     "metadata": {},
     "output_type": "execute_result"
    }
   ],
   "source": [
    "rating = new_soup.find('span', attrs={'class':'a-size-base a-color-base'})\n",
    "rating"
   ]
  },
  {
   "cell_type": "code",
   "execution_count": 67,
   "id": "4becad4e-7bdb-4d71-b072-a351e24c0cb4",
   "metadata": {},
   "outputs": [
    {
     "data": {
      "text/plain": [
       "''"
      ]
     },
     "execution_count": 67,
     "metadata": {},
     "output_type": "execute_result"
    }
   ],
   "source": [
    "rating = get_rating(new_soup)\n",
    "rating\n"
   ]
  },
  {
   "cell_type": "code",
   "execution_count": 68,
   "id": "53e7cd1b-c9e5-4b14-8dcc-218790ed12ae",
   "metadata": {},
   "outputs": [
    {
     "name": "stdout",
     "output_type": "stream",
     "text": [
      "ava  Only 3 left in stock - order soon. \n"
     ]
    },
    {
     "data": {
      "text/plain": [
       "' Only 3 left in stock - order soon. '"
      ]
     },
     "execution_count": 68,
     "metadata": {},
     "output_type": "execute_result"
    }
   ],
   "source": [
    "r = get_availability(new_soup)\n",
    "r"
   ]
  }
 ],
 "metadata": {
  "kernelspec": {
   "display_name": "Python 3 (ipykernel)",
   "language": "python",
   "name": "python3"
  },
  "language_info": {
   "codemirror_mode": {
    "name": "ipython",
    "version": 3
   },
   "file_extension": ".py",
   "mimetype": "text/x-python",
   "name": "python",
   "nbconvert_exporter": "python",
   "pygments_lexer": "ipython3",
   "version": "3.12.2"
  }
 },
 "nbformat": 4,
 "nbformat_minor": 5
}
